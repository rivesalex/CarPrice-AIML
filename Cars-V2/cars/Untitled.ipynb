{
 "cells": [
  {
   "cell_type": "code",
   "execution_count": 120,
   "id": "9fa60876",
   "metadata": {},
   "outputs": [],
   "source": [
    "import sqlalchemy\n",
    "import flask_sqlalchemy\n",
    "from app import Cars_Info, app\n",
    "import pandas as pd\n",
    "import plotly.express as ex\n",
    "import plotly.graph_objects as go"
   ]
  },
  {
   "cell_type": "code",
   "execution_count": 89,
   "id": "c4b094f6",
   "metadata": {},
   "outputs": [],
   "source": [
    "df = pd.read_pickle('data/cleaned_cars_db.pickle')"
   ]
  },
  {
   "cell_type": "code",
   "execution_count": 292,
   "id": "e8e400b8",
   "metadata": {},
   "outputs": [],
   "source": [
    "def isBase(row):\n",
    "    if row == 0:\n",
    "        return 'Base'\n",
    "    if row != 0:\n",
    "        return 'Lux'\n",
    "    \n",
    "df = pd.read_pickle('data/cleaned_cars_db.pickle')\n",
    "def getPlot(brand,mileage,year,df,year_range=1, mileage_range=15000,count=0):\n",
    "    if count ==100:\n",
    "        with(open('output.html')) as file:\n",
    "            file.write('<h1> There is no available results for the inputs </h1>')\n",
    "        return None\n",
    "    temp = df[df['manufacturer']==brand]\n",
    "    year_index = (temp['year']>=year-year_range) & (temp['year']<=year+year_range)\n",
    "    odometer_index = (temp['odometer']>=mileage-mileage_range) & (temp['odometer']<=mileage+mileage_range)\n",
    "    ind = year_index & odometer_index\n",
    "    \n",
    "    plotly_df = temp[ind].copy()\n",
    "    if len(plotly_df)<50:\n",
    "        return getPlot(brand=brand,mileage=mileage,df=df,\n",
    "                       year=year,year_range=year_range+1,\n",
    "                       mileage_range=mileage_range+10000,count=count+1)\n",
    "    \n",
    "    plotly_df['year'] = plotly_df['year'].astype(int).astype(str)\n",
    "    plotly_df.sort_values('year',inplace=True)\n",
    "    plotly_df['model'] = plotly_df['model1'].apply(lambda x: f'{brand} ' +x)\n",
    "    plotly_df['trim_size'] = plotly_df['trim'].apply(lambda x: x/10 + 0.1)\n",
    "    plotly_df['Trim'] = df['trim'].apply(isBase)\n",
    "    \n",
    "    fig = ex.scatter(plotly_df, x='odometer',y='price',color='year',\n",
    "                 size='trim_size', size_max=10,\n",
    "                 hover_name='model', \n",
    "                 hover_data={'trim_size':False,'Trim':True})\n",
    "    print(len(plotly_df))\n",
    "    return fig.write_html('static/plotly/output.html',full_html=False)\n",
    "\n",
    "    \n",
    "df = pd.read_pickle('data/cleaned_cars_db.pickle')\n",
    "def getPlot2(brand,mileage,year,df,year_range=1, mileage_range=15000,count=0):\n",
    "    if count ==100000:\n",
    "        with(open('output.html','w')) as file:\n",
    "            file.write('<h1> There is no available results for the inputs </h1>')\n",
    "        return None\n",
    "    temp = df[df['manufacturer']==brand]\n",
    "    year_index = (temp['year']>=year-year_range) & (temp['year']<=year+year_range)\n",
    "    odometer_index = (temp['odometer']>=mileage-mileage_range) & (temp['odometer']<=mileage+mileage_range)\n",
    "    ind = year_index & odometer_index\n",
    "    \n",
    "    plotly_df = temp[ind].copy()\n",
    "    if len(plotly_df)<5:\n",
    "        return getPlot2(brand=brand,mileage=mileage,df=df,\n",
    "                       year=year,year_range=year_range+1,\n",
    "                       mileage_range=mileage_range+10000,count=count+1)\n",
    "    \n",
    "    plotly_df['year'] = plotly_df['year'].astype(int).astype(str)\n",
    "    plotly_df.sort_values('year',inplace=True)\n",
    "    plotly_df['model'] = plotly_df['model1'].apply(lambda x: f'{brand} ' +x)\n",
    "    plotly_df['trim_size'] = plotly_df['trim'].apply(lambda x: x/10 + 0.1)\n",
    "    plotly_df['Trim'] = df['trim'].apply(isBase)\n",
    "    \n",
    "    fig = ex.scatter(plotly_df, x='odometer',y='price',color='year',\n",
    "                 size='trim_size', size_max=10,\n",
    "                 hover_name='model', \n",
    "                 hover_data={'trim_size':False,'Trim':True})\n",
    "    print(len(plotly_df))\n",
    "    return fig"
   ]
  },
  {
   "cell_type": "code",
   "execution_count": 293,
   "id": "c15ca029",
   "metadata": {},
   "outputs": [],
   "source": [
    "gf = df[df['manufacturer']=='bmw']\n",
    "year_index = (gf['year'] >= 2012) & (gf['year'] <=2014) & (gf['price'] >1000)\n",
    "odometer_index = (gf['odometer'] >=65000) & (gf['odometer'] <= 75000)\n",
    "ind = year_index & odometer_index\n",
    "x = gf[ind]['odometer']\n",
    "y = gf[ind]['price']\n",
    "\n",
    "plotly_df = gf[ind].copy()\n",
    "plotly_df['year'] = plotly_df['year'].astype(int).astype(str)\n",
    "plotly_df.sort_values('year',inplace=True)\n",
    "plotly_df['model'] = plotly_df['model1'].apply(lambda x: 'bmw '+x)\n",
    "plotly_df['trim_size'] = plotly_df['trim'].apply(lambda x: x/10 + 0.1)\n",
    "def isBase(row):\n",
    "    if row == 0:\n",
    "        return 'Base'\n",
    "    if row != 0:\n",
    "        return 'Lux'\n",
    "plotly_df['Trim'] = df['trim'].apply(isBase)"
   ]
  },
  {
   "cell_type": "code",
   "execution_count": 294,
   "id": "27d05e5a",
   "metadata": {
    "scrolled": false
   },
   "outputs": [
    {
     "name": "stdout",
     "output_type": "stream",
     "text": [
      "6\n"
     ]
    },
    {
     "data": {
      "application/vnd.plotly.v1+json": {
       "config": {
        "plotlyServerURL": "https://plot.ly"
       },
       "data": [
        {
         "customdata": [
          [
           0.1,
           "Base"
          ]
         ],
         "hovertemplate": "<b>%{hovertext}</b><br><br>year=2008<br>odometer=%{x}<br>price=%{y}<br>Trim=%{customdata[1]}<extra></extra>",
         "hovertext": [
          "aston-martin martin"
         ],
         "legendgroup": "2008",
         "marker": {
          "color": "#636efa",
          "size": [
           0.1
          ],
          "sizemode": "area",
          "sizeref": 0.001,
          "symbol": "circle"
         },
         "mode": "markers",
         "name": "2008",
         "orientation": "v",
         "showlegend": true,
         "type": "scatter",
         "x": [
          35146
         ],
         "xaxis": "x",
         "y": [
          42500
         ],
         "yaxis": "y"
        },
        {
         "customdata": [
          [
           0.1,
           "Base"
          ]
         ],
         "hovertemplate": "<b>%{hovertext}</b><br><br>year=2010<br>odometer=%{x}<br>price=%{y}<br>Trim=%{customdata[1]}<extra></extra>",
         "hovertext": [
          "aston-martin martin"
         ],
         "legendgroup": "2010",
         "marker": {
          "color": "#EF553B",
          "size": [
           0.1
          ],
          "sizemode": "area",
          "sizeref": 0.001,
          "symbol": "circle"
         },
         "mode": "markers",
         "name": "2010",
         "orientation": "v",
         "showlegend": true,
         "type": "scatter",
         "x": [
          29970
         ],
         "xaxis": "x",
         "y": [
          52000
         ],
         "yaxis": "y"
        },
        {
         "customdata": [
          [
           0.1,
           "Base"
          ]
         ],
         "hovertemplate": "<b>%{hovertext}</b><br><br>year=2013<br>odometer=%{x}<br>price=%{y}<br>Trim=%{customdata[1]}<extra></extra>",
         "hovertext": [
          "aston-martin martin"
         ],
         "legendgroup": "2013",
         "marker": {
          "color": "#00cc96",
          "size": [
           0.1
          ],
          "sizemode": "area",
          "sizeref": 0.001,
          "symbol": "circle"
         },
         "mode": "markers",
         "name": "2013",
         "orientation": "v",
         "showlegend": true,
         "type": "scatter",
         "x": [
          27840
         ],
         "xaxis": "x",
         "y": [
          79990
         ],
         "yaxis": "y"
        },
        {
         "customdata": [
          [
           0.1,
           "Base"
          ],
          [
           0.1,
           "Base"
          ],
          [
           0.1,
           "Base"
          ]
         ],
         "hovertemplate": "<b>%{hovertext}</b><br><br>year=2014<br>odometer=%{x}<br>price=%{y}<br>Trim=%{customdata[1]}<extra></extra>",
         "hovertext": [
          "aston-martin martin",
          "aston-martin martin",
          "aston-martin martin"
         ],
         "legendgroup": "2014",
         "marker": {
          "color": "#ab63fa",
          "size": [
           0.1,
           0.1,
           0.1
          ],
          "sizemode": "area",
          "sizeref": 0.001,
          "symbol": "circle"
         },
         "mode": "markers",
         "name": "2014",
         "orientation": "v",
         "showlegend": true,
         "type": "scatter",
         "x": [
          31067,
          29921,
          29921
         ],
         "xaxis": "x",
         "y": [
          119991,
          74991,
          74991
         ],
         "yaxis": "y"
        }
       ],
       "layout": {
        "legend": {
         "itemsizing": "constant",
         "title": {
          "text": "year"
         },
         "tracegroupgap": 0
        },
        "margin": {
         "t": 60
        },
        "template": {
         "data": {
          "bar": [
           {
            "error_x": {
             "color": "#2a3f5f"
            },
            "error_y": {
             "color": "#2a3f5f"
            },
            "marker": {
             "line": {
              "color": "#E5ECF6",
              "width": 0.5
             },
             "pattern": {
              "fillmode": "overlay",
              "size": 10,
              "solidity": 0.2
             }
            },
            "type": "bar"
           }
          ],
          "barpolar": [
           {
            "marker": {
             "line": {
              "color": "#E5ECF6",
              "width": 0.5
             },
             "pattern": {
              "fillmode": "overlay",
              "size": 10,
              "solidity": 0.2
             }
            },
            "type": "barpolar"
           }
          ],
          "carpet": [
           {
            "aaxis": {
             "endlinecolor": "#2a3f5f",
             "gridcolor": "white",
             "linecolor": "white",
             "minorgridcolor": "white",
             "startlinecolor": "#2a3f5f"
            },
            "baxis": {
             "endlinecolor": "#2a3f5f",
             "gridcolor": "white",
             "linecolor": "white",
             "minorgridcolor": "white",
             "startlinecolor": "#2a3f5f"
            },
            "type": "carpet"
           }
          ],
          "choropleth": [
           {
            "colorbar": {
             "outlinewidth": 0,
             "ticks": ""
            },
            "type": "choropleth"
           }
          ],
          "contour": [
           {
            "colorbar": {
             "outlinewidth": 0,
             "ticks": ""
            },
            "colorscale": [
             [
              0,
              "#0d0887"
             ],
             [
              0.1111111111111111,
              "#46039f"
             ],
             [
              0.2222222222222222,
              "#7201a8"
             ],
             [
              0.3333333333333333,
              "#9c179e"
             ],
             [
              0.4444444444444444,
              "#bd3786"
             ],
             [
              0.5555555555555556,
              "#d8576b"
             ],
             [
              0.6666666666666666,
              "#ed7953"
             ],
             [
              0.7777777777777778,
              "#fb9f3a"
             ],
             [
              0.8888888888888888,
              "#fdca26"
             ],
             [
              1,
              "#f0f921"
             ]
            ],
            "type": "contour"
           }
          ],
          "contourcarpet": [
           {
            "colorbar": {
             "outlinewidth": 0,
             "ticks": ""
            },
            "type": "contourcarpet"
           }
          ],
          "heatmap": [
           {
            "colorbar": {
             "outlinewidth": 0,
             "ticks": ""
            },
            "colorscale": [
             [
              0,
              "#0d0887"
             ],
             [
              0.1111111111111111,
              "#46039f"
             ],
             [
              0.2222222222222222,
              "#7201a8"
             ],
             [
              0.3333333333333333,
              "#9c179e"
             ],
             [
              0.4444444444444444,
              "#bd3786"
             ],
             [
              0.5555555555555556,
              "#d8576b"
             ],
             [
              0.6666666666666666,
              "#ed7953"
             ],
             [
              0.7777777777777778,
              "#fb9f3a"
             ],
             [
              0.8888888888888888,
              "#fdca26"
             ],
             [
              1,
              "#f0f921"
             ]
            ],
            "type": "heatmap"
           }
          ],
          "heatmapgl": [
           {
            "colorbar": {
             "outlinewidth": 0,
             "ticks": ""
            },
            "colorscale": [
             [
              0,
              "#0d0887"
             ],
             [
              0.1111111111111111,
              "#46039f"
             ],
             [
              0.2222222222222222,
              "#7201a8"
             ],
             [
              0.3333333333333333,
              "#9c179e"
             ],
             [
              0.4444444444444444,
              "#bd3786"
             ],
             [
              0.5555555555555556,
              "#d8576b"
             ],
             [
              0.6666666666666666,
              "#ed7953"
             ],
             [
              0.7777777777777778,
              "#fb9f3a"
             ],
             [
              0.8888888888888888,
              "#fdca26"
             ],
             [
              1,
              "#f0f921"
             ]
            ],
            "type": "heatmapgl"
           }
          ],
          "histogram": [
           {
            "marker": {
             "pattern": {
              "fillmode": "overlay",
              "size": 10,
              "solidity": 0.2
             }
            },
            "type": "histogram"
           }
          ],
          "histogram2d": [
           {
            "colorbar": {
             "outlinewidth": 0,
             "ticks": ""
            },
            "colorscale": [
             [
              0,
              "#0d0887"
             ],
             [
              0.1111111111111111,
              "#46039f"
             ],
             [
              0.2222222222222222,
              "#7201a8"
             ],
             [
              0.3333333333333333,
              "#9c179e"
             ],
             [
              0.4444444444444444,
              "#bd3786"
             ],
             [
              0.5555555555555556,
              "#d8576b"
             ],
             [
              0.6666666666666666,
              "#ed7953"
             ],
             [
              0.7777777777777778,
              "#fb9f3a"
             ],
             [
              0.8888888888888888,
              "#fdca26"
             ],
             [
              1,
              "#f0f921"
             ]
            ],
            "type": "histogram2d"
           }
          ],
          "histogram2dcontour": [
           {
            "colorbar": {
             "outlinewidth": 0,
             "ticks": ""
            },
            "colorscale": [
             [
              0,
              "#0d0887"
             ],
             [
              0.1111111111111111,
              "#46039f"
             ],
             [
              0.2222222222222222,
              "#7201a8"
             ],
             [
              0.3333333333333333,
              "#9c179e"
             ],
             [
              0.4444444444444444,
              "#bd3786"
             ],
             [
              0.5555555555555556,
              "#d8576b"
             ],
             [
              0.6666666666666666,
              "#ed7953"
             ],
             [
              0.7777777777777778,
              "#fb9f3a"
             ],
             [
              0.8888888888888888,
              "#fdca26"
             ],
             [
              1,
              "#f0f921"
             ]
            ],
            "type": "histogram2dcontour"
           }
          ],
          "mesh3d": [
           {
            "colorbar": {
             "outlinewidth": 0,
             "ticks": ""
            },
            "type": "mesh3d"
           }
          ],
          "parcoords": [
           {
            "line": {
             "colorbar": {
              "outlinewidth": 0,
              "ticks": ""
             }
            },
            "type": "parcoords"
           }
          ],
          "pie": [
           {
            "automargin": true,
            "type": "pie"
           }
          ],
          "scatter": [
           {
            "fillpattern": {
             "fillmode": "overlay",
             "size": 10,
             "solidity": 0.2
            },
            "type": "scatter"
           }
          ],
          "scatter3d": [
           {
            "line": {
             "colorbar": {
              "outlinewidth": 0,
              "ticks": ""
             }
            },
            "marker": {
             "colorbar": {
              "outlinewidth": 0,
              "ticks": ""
             }
            },
            "type": "scatter3d"
           }
          ],
          "scattercarpet": [
           {
            "marker": {
             "colorbar": {
              "outlinewidth": 0,
              "ticks": ""
             }
            },
            "type": "scattercarpet"
           }
          ],
          "scattergeo": [
           {
            "marker": {
             "colorbar": {
              "outlinewidth": 0,
              "ticks": ""
             }
            },
            "type": "scattergeo"
           }
          ],
          "scattergl": [
           {
            "marker": {
             "colorbar": {
              "outlinewidth": 0,
              "ticks": ""
             }
            },
            "type": "scattergl"
           }
          ],
          "scattermapbox": [
           {
            "marker": {
             "colorbar": {
              "outlinewidth": 0,
              "ticks": ""
             }
            },
            "type": "scattermapbox"
           }
          ],
          "scatterpolar": [
           {
            "marker": {
             "colorbar": {
              "outlinewidth": 0,
              "ticks": ""
             }
            },
            "type": "scatterpolar"
           }
          ],
          "scatterpolargl": [
           {
            "marker": {
             "colorbar": {
              "outlinewidth": 0,
              "ticks": ""
             }
            },
            "type": "scatterpolargl"
           }
          ],
          "scatterternary": [
           {
            "marker": {
             "colorbar": {
              "outlinewidth": 0,
              "ticks": ""
             }
            },
            "type": "scatterternary"
           }
          ],
          "surface": [
           {
            "colorbar": {
             "outlinewidth": 0,
             "ticks": ""
            },
            "colorscale": [
             [
              0,
              "#0d0887"
             ],
             [
              0.1111111111111111,
              "#46039f"
             ],
             [
              0.2222222222222222,
              "#7201a8"
             ],
             [
              0.3333333333333333,
              "#9c179e"
             ],
             [
              0.4444444444444444,
              "#bd3786"
             ],
             [
              0.5555555555555556,
              "#d8576b"
             ],
             [
              0.6666666666666666,
              "#ed7953"
             ],
             [
              0.7777777777777778,
              "#fb9f3a"
             ],
             [
              0.8888888888888888,
              "#fdca26"
             ],
             [
              1,
              "#f0f921"
             ]
            ],
            "type": "surface"
           }
          ],
          "table": [
           {
            "cells": {
             "fill": {
              "color": "#EBF0F8"
             },
             "line": {
              "color": "white"
             }
            },
            "header": {
             "fill": {
              "color": "#C8D4E3"
             },
             "line": {
              "color": "white"
             }
            },
            "type": "table"
           }
          ]
         },
         "layout": {
          "annotationdefaults": {
           "arrowcolor": "#2a3f5f",
           "arrowhead": 0,
           "arrowwidth": 1
          },
          "autotypenumbers": "strict",
          "coloraxis": {
           "colorbar": {
            "outlinewidth": 0,
            "ticks": ""
           }
          },
          "colorscale": {
           "diverging": [
            [
             0,
             "#8e0152"
            ],
            [
             0.1,
             "#c51b7d"
            ],
            [
             0.2,
             "#de77ae"
            ],
            [
             0.3,
             "#f1b6da"
            ],
            [
             0.4,
             "#fde0ef"
            ],
            [
             0.5,
             "#f7f7f7"
            ],
            [
             0.6,
             "#e6f5d0"
            ],
            [
             0.7,
             "#b8e186"
            ],
            [
             0.8,
             "#7fbc41"
            ],
            [
             0.9,
             "#4d9221"
            ],
            [
             1,
             "#276419"
            ]
           ],
           "sequential": [
            [
             0,
             "#0d0887"
            ],
            [
             0.1111111111111111,
             "#46039f"
            ],
            [
             0.2222222222222222,
             "#7201a8"
            ],
            [
             0.3333333333333333,
             "#9c179e"
            ],
            [
             0.4444444444444444,
             "#bd3786"
            ],
            [
             0.5555555555555556,
             "#d8576b"
            ],
            [
             0.6666666666666666,
             "#ed7953"
            ],
            [
             0.7777777777777778,
             "#fb9f3a"
            ],
            [
             0.8888888888888888,
             "#fdca26"
            ],
            [
             1,
             "#f0f921"
            ]
           ],
           "sequentialminus": [
            [
             0,
             "#0d0887"
            ],
            [
             0.1111111111111111,
             "#46039f"
            ],
            [
             0.2222222222222222,
             "#7201a8"
            ],
            [
             0.3333333333333333,
             "#9c179e"
            ],
            [
             0.4444444444444444,
             "#bd3786"
            ],
            [
             0.5555555555555556,
             "#d8576b"
            ],
            [
             0.6666666666666666,
             "#ed7953"
            ],
            [
             0.7777777777777778,
             "#fb9f3a"
            ],
            [
             0.8888888888888888,
             "#fdca26"
            ],
            [
             1,
             "#f0f921"
            ]
           ]
          },
          "colorway": [
           "#636efa",
           "#EF553B",
           "#00cc96",
           "#ab63fa",
           "#FFA15A",
           "#19d3f3",
           "#FF6692",
           "#B6E880",
           "#FF97FF",
           "#FECB52"
          ],
          "font": {
           "color": "#2a3f5f"
          },
          "geo": {
           "bgcolor": "white",
           "lakecolor": "white",
           "landcolor": "#E5ECF6",
           "showlakes": true,
           "showland": true,
           "subunitcolor": "white"
          },
          "hoverlabel": {
           "align": "left"
          },
          "hovermode": "closest",
          "mapbox": {
           "style": "light"
          },
          "paper_bgcolor": "white",
          "plot_bgcolor": "#E5ECF6",
          "polar": {
           "angularaxis": {
            "gridcolor": "white",
            "linecolor": "white",
            "ticks": ""
           },
           "bgcolor": "#E5ECF6",
           "radialaxis": {
            "gridcolor": "white",
            "linecolor": "white",
            "ticks": ""
           }
          },
          "scene": {
           "xaxis": {
            "backgroundcolor": "#E5ECF6",
            "gridcolor": "white",
            "gridwidth": 2,
            "linecolor": "white",
            "showbackground": true,
            "ticks": "",
            "zerolinecolor": "white"
           },
           "yaxis": {
            "backgroundcolor": "#E5ECF6",
            "gridcolor": "white",
            "gridwidth": 2,
            "linecolor": "white",
            "showbackground": true,
            "ticks": "",
            "zerolinecolor": "white"
           },
           "zaxis": {
            "backgroundcolor": "#E5ECF6",
            "gridcolor": "white",
            "gridwidth": 2,
            "linecolor": "white",
            "showbackground": true,
            "ticks": "",
            "zerolinecolor": "white"
           }
          },
          "shapedefaults": {
           "line": {
            "color": "#2a3f5f"
           }
          },
          "ternary": {
           "aaxis": {
            "gridcolor": "white",
            "linecolor": "white",
            "ticks": ""
           },
           "baxis": {
            "gridcolor": "white",
            "linecolor": "white",
            "ticks": ""
           },
           "bgcolor": "#E5ECF6",
           "caxis": {
            "gridcolor": "white",
            "linecolor": "white",
            "ticks": ""
           }
          },
          "title": {
           "x": 0.05
          },
          "xaxis": {
           "automargin": true,
           "gridcolor": "white",
           "linecolor": "white",
           "ticks": "",
           "title": {
            "standoff": 15
           },
           "zerolinecolor": "white",
           "zerolinewidth": 2
          },
          "yaxis": {
           "automargin": true,
           "gridcolor": "white",
           "linecolor": "white",
           "ticks": "",
           "title": {
            "standoff": 15
           },
           "zerolinecolor": "white",
           "zerolinewidth": 2
          }
         }
        },
        "xaxis": {
         "anchor": "y",
         "domain": [
          0,
          1
         ],
         "title": {
          "text": "odometer"
         }
        },
        "yaxis": {
         "anchor": "x",
         "domain": [
          0,
          1
         ],
         "title": {
          "text": "price"
         }
        }
       }
      },
      "text/html": [
       "<div>                            <div id=\"5ca637f7-dee4-4297-8fba-f8e148d34a4e\" class=\"plotly-graph-div\" style=\"height:525px; width:100%;\"></div>            <script type=\"text/javascript\">                require([\"plotly\"], function(Plotly) {                    window.PLOTLYENV=window.PLOTLYENV || {};                                    if (document.getElementById(\"5ca637f7-dee4-4297-8fba-f8e148d34a4e\")) {                    Plotly.newPlot(                        \"5ca637f7-dee4-4297-8fba-f8e148d34a4e\",                        [{\"customdata\":[[0.1,\"Base\"]],\"hovertemplate\":\"<b>%{hovertext}</b><br><br>year=2008<br>odometer=%{x}<br>price=%{y}<br>Trim=%{customdata[1]}<extra></extra>\",\"hovertext\":[\"aston-martin martin\"],\"legendgroup\":\"2008\",\"marker\":{\"color\":\"#636efa\",\"size\":[0.1],\"sizemode\":\"area\",\"sizeref\":0.001,\"symbol\":\"circle\"},\"mode\":\"markers\",\"name\":\"2008\",\"orientation\":\"v\",\"showlegend\":true,\"x\":[35146.0],\"xaxis\":\"x\",\"y\":[42500],\"yaxis\":\"y\",\"type\":\"scatter\"},{\"customdata\":[[0.1,\"Base\"]],\"hovertemplate\":\"<b>%{hovertext}</b><br><br>year=2010<br>odometer=%{x}<br>price=%{y}<br>Trim=%{customdata[1]}<extra></extra>\",\"hovertext\":[\"aston-martin martin\"],\"legendgroup\":\"2010\",\"marker\":{\"color\":\"#EF553B\",\"size\":[0.1],\"sizemode\":\"area\",\"sizeref\":0.001,\"symbol\":\"circle\"},\"mode\":\"markers\",\"name\":\"2010\",\"orientation\":\"v\",\"showlegend\":true,\"x\":[29970.0],\"xaxis\":\"x\",\"y\":[52000],\"yaxis\":\"y\",\"type\":\"scatter\"},{\"customdata\":[[0.1,\"Base\"]],\"hovertemplate\":\"<b>%{hovertext}</b><br><br>year=2013<br>odometer=%{x}<br>price=%{y}<br>Trim=%{customdata[1]}<extra></extra>\",\"hovertext\":[\"aston-martin martin\"],\"legendgroup\":\"2013\",\"marker\":{\"color\":\"#00cc96\",\"size\":[0.1],\"sizemode\":\"area\",\"sizeref\":0.001,\"symbol\":\"circle\"},\"mode\":\"markers\",\"name\":\"2013\",\"orientation\":\"v\",\"showlegend\":true,\"x\":[27840.0],\"xaxis\":\"x\",\"y\":[79990],\"yaxis\":\"y\",\"type\":\"scatter\"},{\"customdata\":[[0.1,\"Base\"],[0.1,\"Base\"],[0.1,\"Base\"]],\"hovertemplate\":\"<b>%{hovertext}</b><br><br>year=2014<br>odometer=%{x}<br>price=%{y}<br>Trim=%{customdata[1]}<extra></extra>\",\"hovertext\":[\"aston-martin martin\",\"aston-martin martin\",\"aston-martin martin\"],\"legendgroup\":\"2014\",\"marker\":{\"color\":\"#ab63fa\",\"size\":[0.1,0.1,0.1],\"sizemode\":\"area\",\"sizeref\":0.001,\"symbol\":\"circle\"},\"mode\":\"markers\",\"name\":\"2014\",\"orientation\":\"v\",\"showlegend\":true,\"x\":[31067.0,29921.0,29921.0],\"xaxis\":\"x\",\"y\":[119991,74991,74991],\"yaxis\":\"y\",\"type\":\"scatter\"}],                        {\"template\":{\"data\":{\"histogram2dcontour\":[{\"type\":\"histogram2dcontour\",\"colorbar\":{\"outlinewidth\":0,\"ticks\":\"\"},\"colorscale\":[[0.0,\"#0d0887\"],[0.1111111111111111,\"#46039f\"],[0.2222222222222222,\"#7201a8\"],[0.3333333333333333,\"#9c179e\"],[0.4444444444444444,\"#bd3786\"],[0.5555555555555556,\"#d8576b\"],[0.6666666666666666,\"#ed7953\"],[0.7777777777777778,\"#fb9f3a\"],[0.8888888888888888,\"#fdca26\"],[1.0,\"#f0f921\"]]}],\"choropleth\":[{\"type\":\"choropleth\",\"colorbar\":{\"outlinewidth\":0,\"ticks\":\"\"}}],\"histogram2d\":[{\"type\":\"histogram2d\",\"colorbar\":{\"outlinewidth\":0,\"ticks\":\"\"},\"colorscale\":[[0.0,\"#0d0887\"],[0.1111111111111111,\"#46039f\"],[0.2222222222222222,\"#7201a8\"],[0.3333333333333333,\"#9c179e\"],[0.4444444444444444,\"#bd3786\"],[0.5555555555555556,\"#d8576b\"],[0.6666666666666666,\"#ed7953\"],[0.7777777777777778,\"#fb9f3a\"],[0.8888888888888888,\"#fdca26\"],[1.0,\"#f0f921\"]]}],\"heatmap\":[{\"type\":\"heatmap\",\"colorbar\":{\"outlinewidth\":0,\"ticks\":\"\"},\"colorscale\":[[0.0,\"#0d0887\"],[0.1111111111111111,\"#46039f\"],[0.2222222222222222,\"#7201a8\"],[0.3333333333333333,\"#9c179e\"],[0.4444444444444444,\"#bd3786\"],[0.5555555555555556,\"#d8576b\"],[0.6666666666666666,\"#ed7953\"],[0.7777777777777778,\"#fb9f3a\"],[0.8888888888888888,\"#fdca26\"],[1.0,\"#f0f921\"]]}],\"heatmapgl\":[{\"type\":\"heatmapgl\",\"colorbar\":{\"outlinewidth\":0,\"ticks\":\"\"},\"colorscale\":[[0.0,\"#0d0887\"],[0.1111111111111111,\"#46039f\"],[0.2222222222222222,\"#7201a8\"],[0.3333333333333333,\"#9c179e\"],[0.4444444444444444,\"#bd3786\"],[0.5555555555555556,\"#d8576b\"],[0.6666666666666666,\"#ed7953\"],[0.7777777777777778,\"#fb9f3a\"],[0.8888888888888888,\"#fdca26\"],[1.0,\"#f0f921\"]]}],\"contourcarpet\":[{\"type\":\"contourcarpet\",\"colorbar\":{\"outlinewidth\":0,\"ticks\":\"\"}}],\"contour\":[{\"type\":\"contour\",\"colorbar\":{\"outlinewidth\":0,\"ticks\":\"\"},\"colorscale\":[[0.0,\"#0d0887\"],[0.1111111111111111,\"#46039f\"],[0.2222222222222222,\"#7201a8\"],[0.3333333333333333,\"#9c179e\"],[0.4444444444444444,\"#bd3786\"],[0.5555555555555556,\"#d8576b\"],[0.6666666666666666,\"#ed7953\"],[0.7777777777777778,\"#fb9f3a\"],[0.8888888888888888,\"#fdca26\"],[1.0,\"#f0f921\"]]}],\"surface\":[{\"type\":\"surface\",\"colorbar\":{\"outlinewidth\":0,\"ticks\":\"\"},\"colorscale\":[[0.0,\"#0d0887\"],[0.1111111111111111,\"#46039f\"],[0.2222222222222222,\"#7201a8\"],[0.3333333333333333,\"#9c179e\"],[0.4444444444444444,\"#bd3786\"],[0.5555555555555556,\"#d8576b\"],[0.6666666666666666,\"#ed7953\"],[0.7777777777777778,\"#fb9f3a\"],[0.8888888888888888,\"#fdca26\"],[1.0,\"#f0f921\"]]}],\"mesh3d\":[{\"type\":\"mesh3d\",\"colorbar\":{\"outlinewidth\":0,\"ticks\":\"\"}}],\"scatter\":[{\"fillpattern\":{\"fillmode\":\"overlay\",\"size\":10,\"solidity\":0.2},\"type\":\"scatter\"}],\"parcoords\":[{\"type\":\"parcoords\",\"line\":{\"colorbar\":{\"outlinewidth\":0,\"ticks\":\"\"}}}],\"scatterpolargl\":[{\"type\":\"scatterpolargl\",\"marker\":{\"colorbar\":{\"outlinewidth\":0,\"ticks\":\"\"}}}],\"bar\":[{\"error_x\":{\"color\":\"#2a3f5f\"},\"error_y\":{\"color\":\"#2a3f5f\"},\"marker\":{\"line\":{\"color\":\"#E5ECF6\",\"width\":0.5},\"pattern\":{\"fillmode\":\"overlay\",\"size\":10,\"solidity\":0.2}},\"type\":\"bar\"}],\"scattergeo\":[{\"type\":\"scattergeo\",\"marker\":{\"colorbar\":{\"outlinewidth\":0,\"ticks\":\"\"}}}],\"scatterpolar\":[{\"type\":\"scatterpolar\",\"marker\":{\"colorbar\":{\"outlinewidth\":0,\"ticks\":\"\"}}}],\"histogram\":[{\"marker\":{\"pattern\":{\"fillmode\":\"overlay\",\"size\":10,\"solidity\":0.2}},\"type\":\"histogram\"}],\"scattergl\":[{\"type\":\"scattergl\",\"marker\":{\"colorbar\":{\"outlinewidth\":0,\"ticks\":\"\"}}}],\"scatter3d\":[{\"type\":\"scatter3d\",\"line\":{\"colorbar\":{\"outlinewidth\":0,\"ticks\":\"\"}},\"marker\":{\"colorbar\":{\"outlinewidth\":0,\"ticks\":\"\"}}}],\"scattermapbox\":[{\"type\":\"scattermapbox\",\"marker\":{\"colorbar\":{\"outlinewidth\":0,\"ticks\":\"\"}}}],\"scatterternary\":[{\"type\":\"scatterternary\",\"marker\":{\"colorbar\":{\"outlinewidth\":0,\"ticks\":\"\"}}}],\"scattercarpet\":[{\"type\":\"scattercarpet\",\"marker\":{\"colorbar\":{\"outlinewidth\":0,\"ticks\":\"\"}}}],\"carpet\":[{\"aaxis\":{\"endlinecolor\":\"#2a3f5f\",\"gridcolor\":\"white\",\"linecolor\":\"white\",\"minorgridcolor\":\"white\",\"startlinecolor\":\"#2a3f5f\"},\"baxis\":{\"endlinecolor\":\"#2a3f5f\",\"gridcolor\":\"white\",\"linecolor\":\"white\",\"minorgridcolor\":\"white\",\"startlinecolor\":\"#2a3f5f\"},\"type\":\"carpet\"}],\"table\":[{\"cells\":{\"fill\":{\"color\":\"#EBF0F8\"},\"line\":{\"color\":\"white\"}},\"header\":{\"fill\":{\"color\":\"#C8D4E3\"},\"line\":{\"color\":\"white\"}},\"type\":\"table\"}],\"barpolar\":[{\"marker\":{\"line\":{\"color\":\"#E5ECF6\",\"width\":0.5},\"pattern\":{\"fillmode\":\"overlay\",\"size\":10,\"solidity\":0.2}},\"type\":\"barpolar\"}],\"pie\":[{\"automargin\":true,\"type\":\"pie\"}]},\"layout\":{\"autotypenumbers\":\"strict\",\"colorway\":[\"#636efa\",\"#EF553B\",\"#00cc96\",\"#ab63fa\",\"#FFA15A\",\"#19d3f3\",\"#FF6692\",\"#B6E880\",\"#FF97FF\",\"#FECB52\"],\"font\":{\"color\":\"#2a3f5f\"},\"hovermode\":\"closest\",\"hoverlabel\":{\"align\":\"left\"},\"paper_bgcolor\":\"white\",\"plot_bgcolor\":\"#E5ECF6\",\"polar\":{\"bgcolor\":\"#E5ECF6\",\"angularaxis\":{\"gridcolor\":\"white\",\"linecolor\":\"white\",\"ticks\":\"\"},\"radialaxis\":{\"gridcolor\":\"white\",\"linecolor\":\"white\",\"ticks\":\"\"}},\"ternary\":{\"bgcolor\":\"#E5ECF6\",\"aaxis\":{\"gridcolor\":\"white\",\"linecolor\":\"white\",\"ticks\":\"\"},\"baxis\":{\"gridcolor\":\"white\",\"linecolor\":\"white\",\"ticks\":\"\"},\"caxis\":{\"gridcolor\":\"white\",\"linecolor\":\"white\",\"ticks\":\"\"}},\"coloraxis\":{\"colorbar\":{\"outlinewidth\":0,\"ticks\":\"\"}},\"colorscale\":{\"sequential\":[[0.0,\"#0d0887\"],[0.1111111111111111,\"#46039f\"],[0.2222222222222222,\"#7201a8\"],[0.3333333333333333,\"#9c179e\"],[0.4444444444444444,\"#bd3786\"],[0.5555555555555556,\"#d8576b\"],[0.6666666666666666,\"#ed7953\"],[0.7777777777777778,\"#fb9f3a\"],[0.8888888888888888,\"#fdca26\"],[1.0,\"#f0f921\"]],\"sequentialminus\":[[0.0,\"#0d0887\"],[0.1111111111111111,\"#46039f\"],[0.2222222222222222,\"#7201a8\"],[0.3333333333333333,\"#9c179e\"],[0.4444444444444444,\"#bd3786\"],[0.5555555555555556,\"#d8576b\"],[0.6666666666666666,\"#ed7953\"],[0.7777777777777778,\"#fb9f3a\"],[0.8888888888888888,\"#fdca26\"],[1.0,\"#f0f921\"]],\"diverging\":[[0,\"#8e0152\"],[0.1,\"#c51b7d\"],[0.2,\"#de77ae\"],[0.3,\"#f1b6da\"],[0.4,\"#fde0ef\"],[0.5,\"#f7f7f7\"],[0.6,\"#e6f5d0\"],[0.7,\"#b8e186\"],[0.8,\"#7fbc41\"],[0.9,\"#4d9221\"],[1,\"#276419\"]]},\"xaxis\":{\"gridcolor\":\"white\",\"linecolor\":\"white\",\"ticks\":\"\",\"title\":{\"standoff\":15},\"zerolinecolor\":\"white\",\"automargin\":true,\"zerolinewidth\":2},\"yaxis\":{\"gridcolor\":\"white\",\"linecolor\":\"white\",\"ticks\":\"\",\"title\":{\"standoff\":15},\"zerolinecolor\":\"white\",\"automargin\":true,\"zerolinewidth\":2},\"scene\":{\"xaxis\":{\"backgroundcolor\":\"#E5ECF6\",\"gridcolor\":\"white\",\"linecolor\":\"white\",\"showbackground\":true,\"ticks\":\"\",\"zerolinecolor\":\"white\",\"gridwidth\":2},\"yaxis\":{\"backgroundcolor\":\"#E5ECF6\",\"gridcolor\":\"white\",\"linecolor\":\"white\",\"showbackground\":true,\"ticks\":\"\",\"zerolinecolor\":\"white\",\"gridwidth\":2},\"zaxis\":{\"backgroundcolor\":\"#E5ECF6\",\"gridcolor\":\"white\",\"linecolor\":\"white\",\"showbackground\":true,\"ticks\":\"\",\"zerolinecolor\":\"white\",\"gridwidth\":2}},\"shapedefaults\":{\"line\":{\"color\":\"#2a3f5f\"}},\"annotationdefaults\":{\"arrowcolor\":\"#2a3f5f\",\"arrowhead\":0,\"arrowwidth\":1},\"geo\":{\"bgcolor\":\"white\",\"landcolor\":\"#E5ECF6\",\"subunitcolor\":\"white\",\"showland\":true,\"showlakes\":true,\"lakecolor\":\"white\"},\"title\":{\"x\":0.05},\"mapbox\":{\"style\":\"light\"}}},\"xaxis\":{\"anchor\":\"y\",\"domain\":[0.0,1.0],\"title\":{\"text\":\"odometer\"}},\"yaxis\":{\"anchor\":\"x\",\"domain\":[0.0,1.0],\"title\":{\"text\":\"price\"}},\"legend\":{\"title\":{\"text\":\"year\"},\"tracegroupgap\":0,\"itemsizing\":\"constant\"},\"margin\":{\"t\":60}},                        {\"responsive\": true}                    ).then(function(){\n",
       "                            \n",
       "var gd = document.getElementById('5ca637f7-dee4-4297-8fba-f8e148d34a4e');\n",
       "var x = new MutationObserver(function (mutations, observer) {{\n",
       "        var display = window.getComputedStyle(gd).display;\n",
       "        if (!display || display === 'none') {{\n",
       "            console.log([gd, 'removed!']);\n",
       "            Plotly.purge(gd);\n",
       "            observer.disconnect();\n",
       "        }}\n",
       "}});\n",
       "\n",
       "// Listen for the removal of the full notebook cells\n",
       "var notebookContainer = gd.closest('#notebook-container');\n",
       "if (notebookContainer) {{\n",
       "    x.observe(notebookContainer, {childList: true});\n",
       "}}\n",
       "\n",
       "// Listen for the clearing of the current output cell\n",
       "var outputEl = gd.closest('.output');\n",
       "if (outputEl) {{\n",
       "    x.observe(outputEl, {childList: true});\n",
       "}}\n",
       "\n",
       "                        })                };                });            </script>        </div>"
      ]
     },
     "metadata": {},
     "output_type": "display_data"
    }
   ],
   "source": [
    "getPlot2('aston-martin',mileage=100000,year=2015,df=df)"
   ]
  },
  {
   "cell_type": "code",
   "execution_count": 266,
   "id": "bef43fc5",
   "metadata": {},
   "outputs": [],
   "source": [
    "fig.write_html('yer.html',full_html=False)"
   ]
  },
  {
   "cell_type": "code",
   "execution_count": 275,
   "id": "671faa40",
   "metadata": {},
   "outputs": [
    {
     "data": {
      "text/html": [
       "<div>\n",
       "<style scoped>\n",
       "    .dataframe tbody tr th:only-of-type {\n",
       "        vertical-align: middle;\n",
       "    }\n",
       "\n",
       "    .dataframe tbody tr th {\n",
       "        vertical-align: top;\n",
       "    }\n",
       "\n",
       "    .dataframe thead th {\n",
       "        text-align: right;\n",
       "    }\n",
       "</style>\n",
       "<table border=\"1\" class=\"dataframe\">\n",
       "  <thead>\n",
       "    <tr style=\"text-align: right;\">\n",
       "      <th></th>\n",
       "      <th>manufacturer</th>\n",
       "      <th>model1</th>\n",
       "      <th>trim</th>\n",
       "      <th>year</th>\n",
       "      <th>odometer</th>\n",
       "      <th>price</th>\n",
       "    </tr>\n",
       "  </thead>\n",
       "  <tbody>\n",
       "    <tr>\n",
       "      <th>41836</th>\n",
       "      <td>aston-martin</td>\n",
       "      <td>martin</td>\n",
       "      <td>1</td>\n",
       "      <td>2005.0</td>\n",
       "      <td>11000.0</td>\n",
       "      <td>40000</td>\n",
       "    </tr>\n",
       "    <tr>\n",
       "      <th>43630</th>\n",
       "      <td>aston-martin</td>\n",
       "      <td>martin</td>\n",
       "      <td>0</td>\n",
       "      <td>2018.0</td>\n",
       "      <td>7800.0</td>\n",
       "      <td>179888</td>\n",
       "    </tr>\n",
       "    <tr>\n",
       "      <th>76707</th>\n",
       "      <td>aston-martin</td>\n",
       "      <td>martin</td>\n",
       "      <td>0</td>\n",
       "      <td>2014.0</td>\n",
       "      <td>22800.0</td>\n",
       "      <td>70000</td>\n",
       "    </tr>\n",
       "    <tr>\n",
       "      <th>87397</th>\n",
       "      <td>aston-martin</td>\n",
       "      <td>martin</td>\n",
       "      <td>0</td>\n",
       "      <td>2010.0</td>\n",
       "      <td>29970.0</td>\n",
       "      <td>52000</td>\n",
       "    </tr>\n",
       "    <tr>\n",
       "      <th>93775</th>\n",
       "      <td>aston-martin</td>\n",
       "      <td>martin</td>\n",
       "      <td>0</td>\n",
       "      <td>1997.0</td>\n",
       "      <td>34575.0</td>\n",
       "      <td>32900</td>\n",
       "    </tr>\n",
       "    <tr>\n",
       "      <th>98043</th>\n",
       "      <td>aston-martin</td>\n",
       "      <td>martin</td>\n",
       "      <td>0</td>\n",
       "      <td>2006.0</td>\n",
       "      <td>39648.0</td>\n",
       "      <td>42995</td>\n",
       "    </tr>\n",
       "    <tr>\n",
       "      <th>100022</th>\n",
       "      <td>aston-martin</td>\n",
       "      <td>martin</td>\n",
       "      <td>0</td>\n",
       "      <td>2011.0</td>\n",
       "      <td>8222.0</td>\n",
       "      <td>68950</td>\n",
       "    </tr>\n",
       "    <tr>\n",
       "      <th>100300</th>\n",
       "      <td>aston-martin</td>\n",
       "      <td>martin</td>\n",
       "      <td>0</td>\n",
       "      <td>2011.0</td>\n",
       "      <td>8222.0</td>\n",
       "      <td>69990</td>\n",
       "    </tr>\n",
       "    <tr>\n",
       "      <th>110894</th>\n",
       "      <td>aston-martin</td>\n",
       "      <td>martin</td>\n",
       "      <td>0</td>\n",
       "      <td>2008.0</td>\n",
       "      <td>35146.0</td>\n",
       "      <td>42500</td>\n",
       "    </tr>\n",
       "    <tr>\n",
       "      <th>119316</th>\n",
       "      <td>aston-martin</td>\n",
       "      <td>martin</td>\n",
       "      <td>0</td>\n",
       "      <td>2014.0</td>\n",
       "      <td>31067.0</td>\n",
       "      <td>119991</td>\n",
       "    </tr>\n",
       "    <tr>\n",
       "      <th>176663</th>\n",
       "      <td>aston-martin</td>\n",
       "      <td>martin</td>\n",
       "      <td>0</td>\n",
       "      <td>2014.0</td>\n",
       "      <td>29921.0</td>\n",
       "      <td>74991</td>\n",
       "    </tr>\n",
       "    <tr>\n",
       "      <th>199579</th>\n",
       "      <td>aston-martin</td>\n",
       "      <td>martin</td>\n",
       "      <td>0</td>\n",
       "      <td>2005.0</td>\n",
       "      <td>12000.0</td>\n",
       "      <td>51000</td>\n",
       "    </tr>\n",
       "    <tr>\n",
       "      <th>306579</th>\n",
       "      <td>aston-martin</td>\n",
       "      <td>martin</td>\n",
       "      <td>0</td>\n",
       "      <td>2014.0</td>\n",
       "      <td>29921.0</td>\n",
       "      <td>74991</td>\n",
       "    </tr>\n",
       "    <tr>\n",
       "      <th>332569</th>\n",
       "      <td>aston-martin</td>\n",
       "      <td>martin</td>\n",
       "      <td>0</td>\n",
       "      <td>2013.0</td>\n",
       "      <td>27840.0</td>\n",
       "      <td>79990</td>\n",
       "    </tr>\n",
       "    <tr>\n",
       "      <th>347165</th>\n",
       "      <td>aston-martin</td>\n",
       "      <td>martin</td>\n",
       "      <td>0</td>\n",
       "      <td>2005.0</td>\n",
       "      <td>31000.0</td>\n",
       "      <td>37000</td>\n",
       "    </tr>\n",
       "    <tr>\n",
       "      <th>359259</th>\n",
       "      <td>aston-martin</td>\n",
       "      <td>martin</td>\n",
       "      <td>0</td>\n",
       "      <td>2017.0</td>\n",
       "      <td>15450.0</td>\n",
       "      <td>145900</td>\n",
       "    </tr>\n",
       "    <tr>\n",
       "      <th>399976</th>\n",
       "      <td>aston-martin</td>\n",
       "      <td>martin</td>\n",
       "      <td>0</td>\n",
       "      <td>2017.0</td>\n",
       "      <td>10157.0</td>\n",
       "      <td>1947</td>\n",
       "    </tr>\n",
       "    <tr>\n",
       "      <th>399995</th>\n",
       "      <td>aston-martin</td>\n",
       "      <td>martin</td>\n",
       "      <td>0</td>\n",
       "      <td>2017.0</td>\n",
       "      <td>10157.0</td>\n",
       "      <td>1947</td>\n",
       "    </tr>\n",
       "    <tr>\n",
       "      <th>407284</th>\n",
       "      <td>aston-martin</td>\n",
       "      <td>martin</td>\n",
       "      <td>0</td>\n",
       "      <td>2017.0</td>\n",
       "      <td>10157.0</td>\n",
       "      <td>1947</td>\n",
       "    </tr>\n",
       "    <tr>\n",
       "      <th>407937</th>\n",
       "      <td>aston-martin</td>\n",
       "      <td>martin</td>\n",
       "      <td>0</td>\n",
       "      <td>2015.0</td>\n",
       "      <td>24586.0</td>\n",
       "      <td>92995</td>\n",
       "    </tr>\n",
       "    <tr>\n",
       "      <th>407963</th>\n",
       "      <td>aston-martin</td>\n",
       "      <td>martin</td>\n",
       "      <td>0</td>\n",
       "      <td>2017.0</td>\n",
       "      <td>10157.0</td>\n",
       "      <td>1947</td>\n",
       "    </tr>\n",
       "  </tbody>\n",
       "</table>\n",
       "</div>"
      ],
      "text/plain": [
       "        manufacturer  model1  trim    year  odometer   price\n",
       "41836   aston-martin  martin     1  2005.0   11000.0   40000\n",
       "43630   aston-martin  martin     0  2018.0    7800.0  179888\n",
       "76707   aston-martin  martin     0  2014.0   22800.0   70000\n",
       "87397   aston-martin  martin     0  2010.0   29970.0   52000\n",
       "93775   aston-martin  martin     0  1997.0   34575.0   32900\n",
       "98043   aston-martin  martin     0  2006.0   39648.0   42995\n",
       "100022  aston-martin  martin     0  2011.0    8222.0   68950\n",
       "100300  aston-martin  martin     0  2011.0    8222.0   69990\n",
       "110894  aston-martin  martin     0  2008.0   35146.0   42500\n",
       "119316  aston-martin  martin     0  2014.0   31067.0  119991\n",
       "176663  aston-martin  martin     0  2014.0   29921.0   74991\n",
       "199579  aston-martin  martin     0  2005.0   12000.0   51000\n",
       "306579  aston-martin  martin     0  2014.0   29921.0   74991\n",
       "332569  aston-martin  martin     0  2013.0   27840.0   79990\n",
       "347165  aston-martin  martin     0  2005.0   31000.0   37000\n",
       "359259  aston-martin  martin     0  2017.0   15450.0  145900\n",
       "399976  aston-martin  martin     0  2017.0   10157.0    1947\n",
       "399995  aston-martin  martin     0  2017.0   10157.0    1947\n",
       "407284  aston-martin  martin     0  2017.0   10157.0    1947\n",
       "407937  aston-martin  martin     0  2015.0   24586.0   92995\n",
       "407963  aston-martin  martin     0  2017.0   10157.0    1947"
      ]
     },
     "execution_count": 275,
     "metadata": {},
     "output_type": "execute_result"
    }
   ],
   "source": [
    "df[df['manufacturer']=='aston-martin']"
   ]
  },
  {
   "cell_type": "code",
   "execution_count": null,
   "id": "3c853374",
   "metadata": {},
   "outputs": [],
   "source": []
  }
 ],
 "metadata": {
  "kernelspec": {
   "display_name": "Python 3 (ipykernel)",
   "language": "python",
   "name": "python3"
  },
  "language_info": {
   "codemirror_mode": {
    "name": "ipython",
    "version": 3
   },
   "file_extension": ".py",
   "mimetype": "text/x-python",
   "name": "python",
   "nbconvert_exporter": "python",
   "pygments_lexer": "ipython3",
   "version": "3.10.9"
  }
 },
 "nbformat": 4,
 "nbformat_minor": 5
}
